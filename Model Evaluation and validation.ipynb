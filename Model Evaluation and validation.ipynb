{
 "cells": [
  {
   "cell_type": "markdown",
   "metadata": {
    "collapsed": true,
    "slideshow": {
     "slide_type": "slide"
    }
   },
   "source": [
    "# Measures of central tendency"
   ]
  },
  {
   "cell_type": "markdown",
   "metadata": {
    "collapsed": false,
    "slideshow": {
     "slide_type": "slide"
    }
   },
   "source": [
    "\n",
    "Properties of the mean:\n",
    "        1. All scores in the distribution affect the mean.\n",
    "        2. The mean can be described with a formula.\n",
    "        \n",
    "        Sample mean (x̅) = (∑x)/n\n",
    "        \n",
    "        Population mean (μ) = (∑x)/N\n",
    "        \n",
    "        3. Many samples from the same population will have similar means.\n",
    "        4. Mean of the sample can be used to make inferuences about the population it came from.\n",
    "        5. Mean changes if we add an extreme value to the dataset."
   ]
  },
  {
   "cell_type": "markdown",
   "metadata": {
    "collapsed": true,
    "slideshow": {
     "slide_type": "skip"
    }
   },
   "source": [
    "#### The average(mean) can be misleading if we have outlier values (values exceedingly different from other participating values)\n",
    "\n",
    "Why do we need a Median (mean can be influenced by an outlier)\n",
    "\n",
    "Calculating Median with an outlier:\n",
    "    \n",
    "    38,150 42,390 48,670 53,160 57,320 500,000\n",
    "    \n",
    "    Step1. Arrange values in ascending/descending order.\n",
    "    Step2. Cancel the first and last values.\n",
    "    Step3. Repeat step 2, till:\n",
    "\n",
    "        if n = odd, one value remains(it's the median)\n",
    "        else two values remain, median is in the middle of  these 2 values.\n",
    "                                      \n",
    "    Median is the correct measure for describing central tendencies while dealing with highly skewed distributions\n",
    "    \n",
    "    Skewness affects the mean(very much), median (not so much) and does not affect the mode.\n",
    "                                      "
   ]
  },
  {
   "cell_type": "markdown",
   "metadata": {},
   "source": [
    "# Variability of Data\n",
    "\n",
    "Quantifying the distributiveness(spread-outedness) : range (i.e max data pt - min data pt) \n",
    "\n",
    "Range is not a correct metric for measuring the variability of data due to the presence of outliers (which happens often).\n",
    "\n",
    "#### Dealing with outliers (Chop-off the tails)\n",
    "\n",
    "Cut off the least and the max values and take into account mostly values near the median.\n",
    "\n",
    "Statisticians usally chop off 25% from each of the min and maximum tails. The left 50% of the sample is taken into consideration.\n",
    "\n",
    "##### Q3-Q1 (Chopping off the tails)\n",
    "\n",
    "Quartile: A quartile devides a group from the other three.\n",
    "\n",
    "N no of data points are devided into 4 equal parts\n",
    "\n",
    "Q3 - Q1 takes the valuable 50% of the points, leaving out the outliers/exceptions.\n",
    "\n",
    "\n",
    "![Q3-Q1](\\home\\harshit\\Documents\\cropped.jpg)\n",
    "\n",
    "\n",
    "\n",
    "\n",
    "\n",
    "\n"
   ]
  },
  {
   "cell_type": "code",
   "execution_count": null,
   "metadata": {
    "collapsed": true
   },
   "outputs": [],
   "source": []
  }
 ],
 "metadata": {
  "anaconda-cloud": {},
  "celltoolbar": "Slideshow",
  "kernelspec": {
   "display_name": "Python [conda root]",
   "language": "python",
   "name": "conda-root-py"
  },
  "language_info": {
   "codemirror_mode": {
    "name": "ipython",
    "version": 2
   },
   "file_extension": ".py",
   "mimetype": "text/x-python",
   "name": "python",
   "nbconvert_exporter": "python",
   "pygments_lexer": "ipython2",
   "version": "2.7.12"
  }
 },
 "nbformat": 4,
 "nbformat_minor": 1
}
